{
 "cells": [
  {
   "cell_type": "markdown",
   "metadata": {},
   "source": [
    "### A simple deep learning model for stock price prediction using TensorFlow"
   ]
  },
  {
   "cell_type": "markdown",
   "metadata": {},
   "source": [
    "Actual prediction of stock prices is a really challenging and complex task that requires tremendous efforts, especially at higher frequencies, such as minutes used here."
   ]
  },
  {
   "cell_type": "code",
   "execution_count": 1,
   "metadata": {},
   "outputs": [
    {
     "data": {
      "text/plain": [
       "'C:\\\\Users\\\\Aizhong Lei\\\\AnacondaProjects\\\\us_stock'"
      ]
     },
     "execution_count": 1,
     "metadata": {},
     "output_type": "execute_result"
    }
   ],
   "source": [
    "import os\n",
    "# path=\"C:/Users/Aizhong Lei/AnacondaProjects/us_stock/us_stock_data/\"\n",
    "# os.chdir(path)\n",
    "path = os.getcwd()\n",
    "path"
   ]
  },
  {
   "cell_type": "code",
   "execution_count": 2,
   "metadata": {},
   "outputs": [],
   "source": [
    "import numpy as np\n",
    "import pandas as pd\n",
    "from matplotlib import pyplot as plt\n",
    "import tensorflow as tf\n",
    "from sklearn.preprocessing import StandardScaler"
   ]
  },
  {
   "cell_type": "markdown",
   "metadata": {},
   "source": [
    "#### 1.  Importing and preparing the data"
   ]
  },
  {
   "cell_type": "markdown",
   "metadata": {},
   "source": [
    "The dataset contains n = 41266 minutes of data ranging from April to August 2017 on 500 stocks as well as the total S&P 500 index price. Index and stocks are arranged in wide format."
   ]
  },
  {
   "cell_type": "code",
   "execution_count": 3,
   "metadata": {},
   "outputs": [],
   "source": [
    "# Import data\n",
    "stock = 'MS'\n",
    "fsn=path + '\\\\us_stock_data\\\\' + stock + '.csv'\n",
    "data = pd.read_csv(fsn)"
   ]
  },
  {
   "cell_type": "code",
   "execution_count": 320,
   "metadata": {},
   "outputs": [],
   "source": [
    "# import fix_yahoo_finance as yf\n",
    "# stock = 'BAC'\n",
    "# start = '2005-01-01'\n",
    "# end = '2018-08-13'\n",
    "# data = yf.download(stock, start, end)"
   ]
  },
  {
   "cell_type": "code",
   "execution_count": 6,
   "metadata": {},
   "outputs": [
    {
     "name": "stdout",
     "output_type": "stream",
     "text": [
      "[*********************100%***********************]  1 of 1 downloaded\n"
     ]
    }
   ],
   "source": [
    "from pandas_datareader import data as pdr\n",
    "import fix_yahoo_finance as yf\n",
    "yf.pdr_override() # <== that's all it takes :-)\n",
    "\n",
    "# download dataframe\n",
    "cs = pdr.get_data_yahoo(\"BAC\", start=\"2005-01-01\", end=\"2018-08-13\")\n"
   ]
  },
  {
   "cell_type": "code",
   "execution_count": 4,
   "metadata": {},
   "outputs": [
    {
     "data": {
      "text/html": [
       "<div>\n",
       "<style scoped>\n",
       "    .dataframe tbody tr th:only-of-type {\n",
       "        vertical-align: middle;\n",
       "    }\n",
       "\n",
       "    .dataframe tbody tr th {\n",
       "        vertical-align: top;\n",
       "    }\n",
       "\n",
       "    .dataframe thead th {\n",
       "        text-align: right;\n",
       "    }\n",
       "</style>\n",
       "<table border=\"1\" class=\"dataframe\">\n",
       "  <thead>\n",
       "    <tr style=\"text-align: right;\">\n",
       "      <th></th>\n",
       "      <th>Date</th>\n",
       "      <th>Open</th>\n",
       "      <th>High</th>\n",
       "      <th>Low</th>\n",
       "      <th>Close</th>\n",
       "      <th>Adj Close</th>\n",
       "      <th>Volume</th>\n",
       "    </tr>\n",
       "  </thead>\n",
       "  <tbody>\n",
       "    <tr>\n",
       "      <th>4696</th>\n",
       "      <td>2018-08-31</td>\n",
       "      <td>49.090000</td>\n",
       "      <td>49.090000</td>\n",
       "      <td>48.570000</td>\n",
       "      <td>48.830002</td>\n",
       "      <td>48.830002</td>\n",
       "      <td>7698400</td>\n",
       "    </tr>\n",
       "    <tr>\n",
       "      <th>4697</th>\n",
       "      <td>2018-09-04</td>\n",
       "      <td>48.860001</td>\n",
       "      <td>48.910000</td>\n",
       "      <td>48.180000</td>\n",
       "      <td>48.709999</td>\n",
       "      <td>48.709999</td>\n",
       "      <td>8548700</td>\n",
       "    </tr>\n",
       "    <tr>\n",
       "      <th>4698</th>\n",
       "      <td>2018-09-05</td>\n",
       "      <td>48.650002</td>\n",
       "      <td>49.049999</td>\n",
       "      <td>48.509998</td>\n",
       "      <td>48.720001</td>\n",
       "      <td>48.720001</td>\n",
       "      <td>5527500</td>\n",
       "    </tr>\n",
       "    <tr>\n",
       "      <th>4699</th>\n",
       "      <td>2018-09-06</td>\n",
       "      <td>48.549999</td>\n",
       "      <td>48.820000</td>\n",
       "      <td>47.680000</td>\n",
       "      <td>47.930000</td>\n",
       "      <td>47.930000</td>\n",
       "      <td>7990500</td>\n",
       "    </tr>\n",
       "    <tr>\n",
       "      <th>4700</th>\n",
       "      <td>2018-09-07</td>\n",
       "      <td>48.020000</td>\n",
       "      <td>48.400002</td>\n",
       "      <td>47.880001</td>\n",
       "      <td>48.220001</td>\n",
       "      <td>48.220001</td>\n",
       "      <td>7242000</td>\n",
       "    </tr>\n",
       "  </tbody>\n",
       "</table>\n",
       "</div>"
      ],
      "text/plain": [
       "            Date       Open       High        Low      Close  Adj Close  \\\n",
       "4696  2018-08-31  49.090000  49.090000  48.570000  48.830002  48.830002   \n",
       "4697  2018-09-04  48.860001  48.910000  48.180000  48.709999  48.709999   \n",
       "4698  2018-09-05  48.650002  49.049999  48.509998  48.720001  48.720001   \n",
       "4699  2018-09-06  48.549999  48.820000  47.680000  47.930000  47.930000   \n",
       "4700  2018-09-07  48.020000  48.400002  47.880001  48.220001  48.220001   \n",
       "\n",
       "       Volume  \n",
       "4696  7698400  \n",
       "4697  8548700  \n",
       "4698  5527500  \n",
       "4699  7990500  \n",
       "4700  7242000  "
      ]
     },
     "execution_count": 4,
     "metadata": {},
     "output_type": "execute_result"
    }
   ],
   "source": [
    "cs = data\n",
    "cs.tail()"
   ]
  },
  {
   "cell_type": "code",
   "execution_count": 5,
   "metadata": {},
   "outputs": [
    {
     "data": {
      "text/plain": [
       "(4701,)"
      ]
     },
     "execution_count": 5,
     "metadata": {},
     "output_type": "execute_result"
    }
   ],
   "source": [
    "data = cs.dropna()['Adj Close']#rolling(window=5).mean().dropna()['Adj Close']\n",
    "data.shape"
   ]
  },
  {
   "cell_type": "code",
   "execution_count": 6,
   "metadata": {},
   "outputs": [
    {
     "data": {
      "text/plain": [
       "[<matplotlib.lines.Line2D at 0x16675249f98>]"
      ]
     },
     "execution_count": 6,
     "metadata": {},
     "output_type": "execute_result"
    },
    {
     "data": {
      "image/png": "[encoded data removed]",
      "text/plain": [
       "<Figure size 432x288 with 1 Axes>"
      ]
     },
     "metadata": {
      "needs_background": "light"
     },
     "output_type": "display_data"
    }
   ],
   "source": [
    "plt.plot(data)"
   ]
  },
  {
   "cell_type": "code",
   "execution_count": 7,
   "metadata": {},
   "outputs": [
    {
     "data": {
      "text/plain": [
       "4701"
      ]
     },
     "execution_count": 7,
     "metadata": {},
     "output_type": "execute_result"
    }
   ],
   "source": [
    "date = cs['Date']#[4:]\n",
    "len(date)"
   ]
  },
  {
   "cell_type": "code",
   "execution_count": 8,
   "metadata": {},
   "outputs": [
    {
     "data": {
      "text/plain": [
       "2000"
      ]
     },
     "execution_count": 8,
     "metadata": {},
     "output_type": "execute_result"
    }
   ],
   "source": [
    "AC = data[-2000:].values\n",
    "len(AC)"
   ]
  },
  {
   "cell_type": "code",
   "execution_count": 9,
   "metadata": {},
   "outputs": [],
   "source": [
    "scaler_X = StandardScaler()\n",
    "dataset_X = scaler_X.fit_transform(AC.reshape(-1, 1))"
   ]
  },
  {
   "cell_type": "code",
   "execution_count": 10,
   "metadata": {},
   "outputs": [],
   "source": [
    "def window_data(data,window):\n",
    "    X = []\n",
    "    y = []\n",
    "    idex = 0\n",
    "    while (idex + window) <= len(data):\n",
    "        X.append(data[idex:idex+window])\n",
    "        idex += 1\n",
    "        \n",
    "    idex = 0    \n",
    "    while (idex + window) <= len(data)-1:\n",
    "        y.append(data[idex+window])\n",
    "        idex += 1 \n",
    "    ##  assert len(X)==len(y)\n",
    "    return X,y"
   ]
  },
  {
   "cell_type": "code",
   "execution_count": 11,
   "metadata": {},
   "outputs": [
    {
     "data": {
      "text/plain": [
       "((1994, 7, 1), (1993, 1))"
      ]
     },
     "execution_count": 11,
     "metadata": {},
     "output_type": "execute_result"
    }
   ],
   "source": [
    "SX , y= window_data(dataset_X,7)\n",
    "np.shape(SX), np.shape(y)"
   ]
  },
  {
   "cell_type": "code",
   "execution_count": 34,
   "metadata": {},
   "outputs": [],
   "source": [
    "# def window_data(data, window_size):\n",
    "#     X = []\n",
    "#     y = []\n",
    "    \n",
    "#     i = 0\n",
    "#     while (i + window_size) <= len(data) - 1:\n",
    "#         X.append(data[i:i+window_size])\n",
    "#         y.append(data[i+window_size])\n",
    "        \n",
    "#         i += 1\n",
    "#     assert len(X) ==  len(y)\n",
    "#     return X, y"
   ]
  },
  {
   "cell_type": "code",
   "execution_count": 12,
   "metadata": {},
   "outputs": [
    {
     "name": "stdout",
     "output_type": "stream",
     "text": [
      "X_train size: (1988, 7, 1)\n",
      "y_train size: (1988, 1)\n",
      "X_test size: (5, 7, 1)\n",
      "y_test size: (5, 1)\n"
     ]
    }
   ],
   "source": [
    "window=7\n",
    "ll = int(len(SX)/window)*window\n",
    "X_train  = np.array(SX[:ll])\n",
    "y_train = np.array(y[:ll])\n",
    "\n",
    "X_test = np.array(SX[ll:-1])\n",
    "y_test = np.array(y[ll:])\n",
    "\n",
    "print(\"X_train size: {}\".format(X_train.shape))\n",
    "print(\"y_train size: {}\".format(y_train.shape))\n",
    "print(\"X_test size: {}\".format(X_test.shape))\n",
    "print(\"y_test size: {}\".format(y_test.shape))\n"
   ]
  },
  {
   "cell_type": "code",
   "execution_count": null,
   "metadata": {},
   "outputs": [],
   "source": []
  },
  {
   "cell_type": "markdown",
   "metadata": {},
   "source": [
    "### Time to train the network"
   ]
  },
  {
   "cell_type": "code",
   "execution_count": 13,
   "metadata": {},
   "outputs": [],
   "source": [
    "epochs=200\n",
    "batch_size = 7"
   ]
  },
  {
   "cell_type": "code",
   "execution_count": 14,
   "metadata": {},
   "outputs": [],
   "source": [
    "def LSTM_cell(hidden_layer_size, batch_size,number_of_layers, dropout=True, dropout_rate=0.8):\n",
    "    \n",
    "    layer = tf.contrib.rnn.BasicLSTMCell(hidden_layer_size)\n",
    "    \n",
    "    if dropout:\n",
    "        layer = tf.contrib.rnn.DropoutWrapper(layer, output_keep_prob=dropout_rate)\n",
    "        \n",
    "    cell = tf.contrib.rnn.MultiRNNCell([layer]*number_of_layers)\n",
    "    \n",
    "    init_state = cell.zero_state(batch_size, tf.float32)\n",
    "    \n",
    "    return cell, init_state"
   ]
  },
  {
   "cell_type": "code",
   "execution_count": 15,
   "metadata": {},
   "outputs": [],
   "source": [
    "def output_layer(lstm_output, in_size, out_size):\n",
    "    \n",
    "    x = lstm_output[:, -1, :]\n",
    "    print(x)\n",
    "    weights = tf.Variable(tf.truncated_normal([in_size, out_size], stddev=0.05), name='output_layer_weights')\n",
    "    bias = tf.Variable(tf.zeros([out_size]), name='output_layer_bias')\n",
    "    \n",
    "    output = tf.matmul(x, weights) + bias\n",
    "    return output"
   ]
  },
  {
   "cell_type": "code",
   "execution_count": 16,
   "metadata": {},
   "outputs": [],
   "source": [
    "def opt_loss(logits, targets, learning_rate, grad_clip_margin):\n",
    "    \n",
    "    losses = []\n",
    "    for i in range(targets.get_shape()[0]):\n",
    "        losses.append([(tf.pow(logits[i] - targets[i], 2))])\n",
    "        \n",
    "    loss = tf.reduce_sum(losses)/(2*batch_size)\n",
    "    \n",
    "    #Cliping the gradient loss\n",
    "    gradients = tf.gradients(loss, tf.trainable_variables())\n",
    "    clipper_, _ = tf.clip_by_global_norm(gradients, grad_clip_margin)\n",
    "    optimizer = tf.train.AdamOptimizer(learning_rate)\n",
    "    train_optimizer = optimizer.apply_gradients(zip(gradients, tf.trainable_variables()))\n",
    "    return loss, train_optimizer"
   ]
  },
  {
   "cell_type": "code",
   "execution_count": 17,
   "metadata": {},
   "outputs": [],
   "source": [
    "class StockPredictionRNN(object):\n",
    "    \n",
    "    def __init__(self, learning_rate=0.001, batch_size=7, hidden_layer_size=512, number_of_layers=1, \n",
    "                 dropout=True, dropout_rate=0.8, number_of_classes=1, gradient_clip_margin=4, window_size=7):\n",
    "    \n",
    "        self.inputs = tf.placeholder(tf.float32, [batch_size, window_size, 1], name='input_data')\n",
    "        self.targets = tf.placeholder(tf.float32, [batch_size, 1], name='targets')\n",
    "\n",
    "        cell, init_state = LSTM_cell(hidden_layer_size, batch_size, number_of_layers, dropout, dropout_rate)\n",
    "\n",
    "        outputs, states = tf.nn.dynamic_rnn(cell, self.inputs, initial_state=init_state)\n",
    "\n",
    "        self.logits = output_layer(outputs, hidden_layer_size, number_of_classes)\n",
    "\n",
    "        self.loss, self.opt = opt_loss(self.logits, self.targets, learning_rate, gradient_clip_margin)"
   ]
  },
  {
   "cell_type": "code",
   "execution_count": 18,
   "metadata": {},
   "outputs": [
    {
     "name": "stdout",
     "output_type": "stream",
     "text": [
      "Tensor(\"strided_slice:0\", shape=(7, 512), dtype=float32)\n"
     ]
    }
   ],
   "source": [
    "tf.reset_default_graph()\n",
    "model = StockPredictionRNN()"
   ]
  },
  {
   "cell_type": "markdown",
   "metadata": {},
   "source": [
    "### Time to train the network"
   ]
  },
  {
   "cell_type": "code",
   "execution_count": 19,
   "metadata": {},
   "outputs": [],
   "source": [
    "session=tf.Session()\n",
    "session.run(tf.global_variables_initializer())"
   ]
  },
  {
   "cell_type": "code",
   "execution_count": 53,
   "metadata": {},
   "outputs": [
    {
     "name": "stdout",
     "output_type": "stream",
     "text": [
      "Epoch 0/200  Current loss: 0.0016231224872171879\n",
      "Epoch 20/200  Current loss: 0.0016231610206887126\n",
      "Epoch 40/200  Current loss: 0.0016129319556057453\n",
      "Epoch 60/200  Current loss: 0.0016401085304096341\n",
      "Epoch 80/200  Current loss: 0.0015985332429409027\n",
      "Epoch 100/200  Current loss: 0.0015079437289386988\n",
      "Epoch 120/200  Current loss: 0.0015283392276614904\n",
      "Epoch 140/200  Current loss: 0.0014915819047018886\n",
      "Epoch 160/200  Current loss: 0.00146591872908175\n",
      "Epoch 180/200  Current loss: 0.0016001176554709673\n"
     ]
    }
   ],
   "source": [
    "def train_model():\n",
    "    for i in range(epochs):\n",
    "        traind_scores = []\n",
    "        ii = 0\n",
    "        epoch_loss = []\n",
    "        while(ii + batch_size) <= len(X_train):\n",
    "            X_batch = X_train[ii:ii+batch_size]\n",
    "            y_batch = y_train[ii:ii+batch_size]\n",
    "\n",
    "            o, c, _ = session.run([model.logits, model.loss, model.opt], feed_dict={model.inputs:X_batch, model.targets:y_batch})\n",
    "\n",
    "            epoch_loss.append(c)\n",
    "            traind_scores.append(o)\n",
    "            ii += batch_size\n",
    "        if (i % 20) == 0:\n",
    "            print('Epoch {}/{}'.format(i, epochs), ' Current loss: {}'.format(np.mean(epoch_loss)))\n",
    "            \n",
    "train_model()"
   ]
  },
  {
   "cell_type": "code",
   "execution_count": 20,
   "metadata": {},
   "outputs": [],
   "source": [
    "import os\n",
    "path = \"C://Users/Aizhong Lei/AnacondaProjects/us_stock/model_logs/\"\n",
    "# checkpoint_dir = os.path.dirname(checkpoint_path)\n",
    "# checkpoint_dir\n",
    "model_path = path + stock  + '.ckpt'"
   ]
  },
  {
   "cell_type": "code",
   "execution_count": 54,
   "metadata": {},
   "outputs": [
    {
     "data": {
      "text/plain": [
       "'C://Users/Aizhong Lei/AnacondaProjects/us_stock/model_logs/MS.ckpt'"
      ]
     },
     "execution_count": 54,
     "metadata": {},
     "output_type": "execute_result"
    }
   ],
   "source": [
    "saver = tf.train.Saver()\n",
    "saver.save(session,model_path)"
   ]
  },
  {
   "cell_type": "code",
   "execution_count": 21,
   "metadata": {},
   "outputs": [
    {
     "name": "stdout",
     "output_type": "stream",
     "text": [
      "INFO:tensorflow:Restoring parameters from C://Users/Aizhong Lei/AnacondaProjects/us_stock/model_logs/MS.ckpt\n"
     ]
    }
   ],
   "source": [
    "saver = tf.train.Saver()\n",
    "saver.restore(sess=session, save_path=model_path)"
   ]
  },
  {
   "cell_type": "code",
   "execution_count": 57,
   "metadata": {},
   "outputs": [],
   "source": [
    "# sup =[]\n",
    "# for i in range(len(traind_scores)):\n",
    "#     for j in range(len(traind_scores[i])):\n",
    "#         sup.append(traind_scores[i][j])"
   ]
  },
  {
   "cell_type": "code",
   "execution_count": 55,
   "metadata": {},
   "outputs": [
    {
     "data": {
      "text/plain": [
       "1988"
      ]
     },
     "execution_count": 55,
     "metadata": {},
     "output_type": "execute_result"
    }
   ],
   "source": [
    "X_test=SX\n",
    "ll=int(len(X_test)/7)*7\n",
    "X_test=SX[-ll:]\n",
    "len(X_test)"
   ]
  },
  {
   "cell_type": "code",
   "execution_count": 56,
   "metadata": {},
   "outputs": [],
   "source": [
    "tests = []\n",
    "i = 0\n",
    "while i+batch_size <= len(X_test):\n",
    "    \n",
    "    o = session.run([model.logits], feed_dict={model.inputs:X_test[i:i+batch_size]})\n",
    "    i += batch_size\n",
    "    tests.append(o)"
   ]
  },
  {
   "cell_type": "code",
   "execution_count": 57,
   "metadata": {},
   "outputs": [],
   "source": [
    "tests_new = []\n",
    "for i in range(len(tests)):\n",
    "    for j in range(len(tests[i][0])):\n",
    "        tests_new.append(tests[i][0][j])"
   ]
  },
  {
   "cell_type": "code",
   "execution_count": 58,
   "metadata": {},
   "outputs": [],
   "source": [
    "# test_results = []\n",
    "# for i in range(len(X_test)):\n",
    "# #     if i >= 701:\n",
    "#         test_results.append(tests_new[i])\n",
    "# #     else:\n",
    "# #         test_results.append(None)"
   ]
  },
  {
   "cell_type": "code",
   "execution_count": 59,
   "metadata": {},
   "outputs": [],
   "source": [
    "t_results = [x for x in tests_new]"
   ]
  },
  {
   "cell_type": "code",
   "execution_count": 60,
   "metadata": {},
   "outputs": [
    {
     "data": {
      "text/plain": [
       "1988"
      ]
     },
     "execution_count": 60,
     "metadata": {},
     "output_type": "execute_result"
    }
   ],
   "source": [
    "dataset_X = scaler_X.inverse_transform(t_results)\n",
    "len(dataset_X)"
   ]
  },
  {
   "cell_type": "code",
   "execution_count": 61,
   "metadata": {},
   "outputs": [
    {
     "data": {
      "text/plain": [
       "array([49.024773], dtype=float32)"
      ]
     },
     "execution_count": 61,
     "metadata": {},
     "output_type": "execute_result"
    }
   ],
   "source": [
    "# t_results1 = scaler_y.inverse_transform(np.array(t_results))\n",
    "dataset_X[-1]"
   ]
  },
  {
   "cell_type": "code",
   "execution_count": 62,
   "metadata": {},
   "outputs": [],
   "source": [
    "yy = scaler_X.inverse_transform(y[-ll:])"
   ]
  },
  {
   "cell_type": "code",
   "execution_count": 63,
   "metadata": {},
   "outputs": [
    {
     "data": {
      "image/png": "[encoded data removed]",
      "text/plain": [
       "<Figure size 1152x504 with 1 Axes>"
      ]
     },
     "metadata": {
      "needs_background": "light"
     },
     "output_type": "display_data"
    }
   ],
   "source": [
    "import matplotlib.pyplot as plt\n",
    "plt.figure(figsize=(16, 7))\n",
    "# plt.plot(scaled_dataset, label='Original data')\n",
    "plt.plot(yy, label='Original data')\n",
    "plt.plot(dataset_X, label='Predict data')\n",
    "plt.legend()\n",
    "plt.show()"
   ]
  },
  {
   "cell_type": "markdown",
   "metadata": {},
   "source": [
    "Predict the future price of stock"
   ]
  },
  {
   "cell_type": "code",
   "execution_count": null,
   "metadata": {},
   "outputs": [],
   "source": []
  },
  {
   "cell_type": "code",
   "execution_count": 64,
   "metadata": {},
   "outputs": [
    {
     "data": {
      "text/plain": [
       "(7, 7, 1)"
      ]
     },
     "execution_count": 64,
     "metadata": {},
     "output_type": "execute_result"
    }
   ],
   "source": [
    "X_test=SX[-7:]\n",
    "\n",
    "np.shape(X_test)"
   ]
  },
  {
   "cell_type": "code",
   "execution_count": 65,
   "metadata": {},
   "outputs": [],
   "source": [
    "pre=np.zeros(5)\n",
    "for i in range(5):\n",
    "    o = session.run([model.logits], feed_dict={model.inputs:X_test});\n",
    "    b=o[-1][-1];\n",
    "    pre[i-1]=b\n",
    "    a=X_test[-1];\n",
    "    a = [x for x in a];\n",
    "    a.append(b);\n",
    "    a=a[1:];\n",
    "    X_test.append(a)\n",
    "    X_test = X_test[1:]"
   ]
  },
  {
   "cell_type": "raw",
   "metadata": {},
   "source": [
    "pre"
   ]
  },
  {
   "cell_type": "code",
   "execution_count": 66,
   "metadata": {},
   "outputs": [
    {
     "data": {
      "text/plain": [
       "array([48.21973831, 48.29279432, 49.02290284, 49.40922988, 47.90520071])"
      ]
     },
     "execution_count": 66,
     "metadata": {},
     "output_type": "execute_result"
    }
   ],
   "source": [
    "predict = scaler_X.inverse_transform(pre)\n",
    "len(pre)\n",
    "predict"
   ]
  },
  {
   "cell_type": "code",
   "execution_count": 67,
   "metadata": {},
   "outputs": [
    {
     "data": {
      "text/plain": [
       "[<matplotlib.lines.Line2D at 0x166796a7f28>]"
      ]
     },
     "execution_count": 67,
     "metadata": {},
     "output_type": "execute_result"
    },
    {
     "data": {
      "image/png": "[encoded data removed]",
      "text/plain": [
       "<Figure size 432x288 with 1 Axes>"
      ]
     },
     "metadata": {
      "needs_background": "light"
     },
     "output_type": "display_data"
    }
   ],
   "source": [
    "plt.plot(predict)"
   ]
  },
  {
   "cell_type": "code",
   "execution_count": 316,
   "metadata": {},
   "outputs": [],
   "source": [
    "session.close()"
   ]
  },
  {
   "cell_type": "code",
   "execution_count": 49,
   "metadata": {},
   "outputs": [
    {
     "data": {
      "text/plain": [
       "array([48.598694], dtype=float32)"
      ]
     },
     "execution_count": 49,
     "metadata": {},
     "output_type": "execute_result"
    }
   ],
   "source": [
    "dataset_X[-1]"
   ]
  },
  {
   "cell_type": "code",
   "execution_count": 50,
   "metadata": {},
   "outputs": [
    {
     "data": {
      "text/plain": [
       "array([48.34158872, 48.76670844, 48.87958965, 48.86277188, 47.92168945])"
      ]
     },
     "execution_count": 50,
     "metadata": {},
     "output_type": "execute_result"
    }
   ],
   "source": [
    "predict[-7:]"
   ]
  },
  {
   "cell_type": "code",
   "execution_count": 51,
   "metadata": {},
   "outputs": [
    {
     "data": {
      "text/plain": [
       "4694    49.950001\n",
       "4695    49.299999\n",
       "4696    48.830002\n",
       "4697    48.709999\n",
       "4698    48.720001\n",
       "4699    47.930000\n",
       "4700    48.220001\n",
       "Name: Adj Close, dtype: float64"
      ]
     },
     "execution_count": 51,
     "metadata": {},
     "output_type": "execute_result"
    }
   ],
   "source": [
    "cs['Adj Close'][-7:]"
   ]
  },
  {
   "cell_type": "code",
   "execution_count": 52,
   "metadata": {},
   "outputs": [
    {
     "data": {
      "text/plain": [
       "<matplotlib.axes._subplots.AxesSubplot at 0x166798d0240>"
      ]
     },
     "execution_count": 52,
     "metadata": {},
     "output_type": "execute_result"
    },
    {
     "data": {
      "image/png": "[encoded data removed]",
      "text/plain": [
       "<Figure size 432x288 with 1 Axes>"
      ]
     },
     "metadata": {
      "needs_background": "light"
     },
     "output_type": "display_data"
    }
   ],
   "source": [
    "cs['Adj Close'][-7:].plot()"
   ]
  },
  {
   "cell_type": "code",
   "execution_count": null,
   "metadata": {},
   "outputs": [],
   "source": []
  }
 ],
 "metadata": {
  "kernelspec": {
   "display_name": "Python 3",
   "language": "python",
   "name": "python3"
  },
  "language_info": {
   "codemirror_mode": {
    "name": "ipython",
    "version": 3
   },
   "file_extension": ".py",
   "mimetype": "text/x-python",
   "name": "python",
   "nbconvert_exporter": "python",
   "pygments_lexer": "ipython3",
   "version": "3.6.6"
  }
 },
 "nbformat": 4,
 "nbformat_minor": 2
}
